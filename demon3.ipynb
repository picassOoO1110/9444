{
 "cells": [
  {
   "cell_type": "code",
   "execution_count": null,
   "id": "b4845d04-705f-4410-8508-c756aee0d842",
   "metadata": {},
   "outputs": [],
   "source": [
    "import torch\n",
    "from torchvision import transforms\n",
    "from torch.utils.data import DataLoader\n",
    "from PIL import Image\n",
    "\n",
    "# 定义图像预处理步骤\n",
    "transform = transforms.Compose([\n",
    "    transforms.Resize((224, 224)),  # 将图像缩放至224x224\n",
    "    transforms.ToTensor(),          # 将图像转换为Tensor\n",
    "])\n",
    "\n",
    "# 定义一个数据加载器，用于加载 DENTEX 数据集的图像\n",
    "class DENTEXDataset(torch.utils.data.Dataset):\n",
    "    def __init__(self, dataset, transform=None):\n",
    "        self.dataset = dataset\n",
    "        self.transform = transform\n",
    "    \n",
    "    def __len__(self):\n",
    "        return len(self.dataset)\n",
    "    \n",
    "    def __getitem__(self, idx):\n",
    "        image = self.dataset['train'][idx]['image']\n",
    "        if self.transform:\n",
    "            image = self.transform(image)\n",
    "        return image\n",
    "\n",
    "# 加载数据集\n",
    "dataset = DENTEXDataset(dataset=dataset, transform=transform)\n",
    "data_loader = DataLoader(dataset, batch_size=4, shuffle=True)  # 试着将批次大小减小为4\n",
    "\n",
    "\n",
    "# 检查数据加载是否正确\n",
    "for images in data_loader:\n",
    "    print(images.shape)  # 输出每批次图像的尺寸\n",
    "    break\n"
   ]
  },
  {
   "cell_type": "code",
   "execution_count": 1,
   "id": "1dff24aa-8639-4bb0-8994-b3a42504bf4e",
   "metadata": {},
   "outputs": [
    {
     "ename": "NameError",
     "evalue": "name 'data_loader' is not defined",
     "output_type": "error",
     "traceback": [
      "\u001b[1;31m---------------------------------------------------------------------------\u001b[0m",
      "\u001b[1;31mNameError\u001b[0m                                 Traceback (most recent call last)",
      "\u001b[1;32m~\\AppData\\Local\\Temp\\ipykernel_39872\\281047446.py\u001b[0m in \u001b[0;36m<module>\u001b[1;34m\u001b[0m\n\u001b[1;32m----> 1\u001b[1;33m \u001b[1;32mfor\u001b[0m \u001b[0mimages\u001b[0m \u001b[1;32min\u001b[0m \u001b[0mdata_loader\u001b[0m\u001b[1;33m:\u001b[0m\u001b[1;33m\u001b[0m\u001b[1;33m\u001b[0m\u001b[0m\n\u001b[0m\u001b[0;32m      2\u001b[0m     \u001b[0mprint\u001b[0m\u001b[1;33m(\u001b[0m\u001b[0mimages\u001b[0m\u001b[1;33m.\u001b[0m\u001b[0mshape\u001b[0m\u001b[1;33m)\u001b[0m  \u001b[1;31m# 只检查数据加载的情况\u001b[0m\u001b[1;33m\u001b[0m\u001b[1;33m\u001b[0m\u001b[0m\n\u001b[0;32m      3\u001b[0m     \u001b[1;32mbreak\u001b[0m  \u001b[1;31m# 只加载一批\u001b[0m\u001b[1;33m\u001b[0m\u001b[1;33m\u001b[0m\u001b[0m\n\u001b[0;32m      4\u001b[0m \u001b[1;33m\u001b[0m\u001b[0m\n",
      "\u001b[1;31mNameError\u001b[0m: name 'data_loader' is not defined"
     ]
    }
   ],
   "source": [
    "\n",
    "\n"
   ]
  },
  {
   "cell_type": "code",
   "execution_count": 1,
   "id": "fd7e8705-c396-49d9-9845-5b219b160413",
   "metadata": {},
   "outputs": [
    {
     "ename": "NameError",
     "evalue": "name 'dataset' is not defined",
     "output_type": "error",
     "traceback": [
      "\u001b[1;31m---------------------------------------------------------------------------\u001b[0m",
      "\u001b[1;31mNameError\u001b[0m                                 Traceback (most recent call last)",
      "\u001b[1;32m~\\AppData\\Local\\Temp\\ipykernel_6552\\4175469388.py\u001b[0m in \u001b[0;36m<module>\u001b[1;34m\u001b[0m\n\u001b[0;32m      1\u001b[0m \u001b[1;31m# 只加载前10张图片进行测试\u001b[0m\u001b[1;33m\u001b[0m\u001b[1;33m\u001b[0m\u001b[0m\n\u001b[1;32m----> 2\u001b[1;33m \u001b[0msubset_data\u001b[0m \u001b[1;33m=\u001b[0m \u001b[0mdataset\u001b[0m\u001b[1;33m[\u001b[0m\u001b[1;34m'train'\u001b[0m\u001b[1;33m]\u001b[0m\u001b[1;33m[\u001b[0m\u001b[1;33m:\u001b[0m\u001b[1;36m10\u001b[0m\u001b[1;33m]\u001b[0m\u001b[1;33m\u001b[0m\u001b[1;33m\u001b[0m\u001b[0m\n\u001b[0m\u001b[0;32m      3\u001b[0m \u001b[1;33m\u001b[0m\u001b[0m\n\u001b[0;32m      4\u001b[0m \u001b[1;31m# 重新定义 DataLoader\u001b[0m\u001b[1;33m\u001b[0m\u001b[1;33m\u001b[0m\u001b[0m\n\u001b[0;32m      5\u001b[0m \u001b[0msubset_loader\u001b[0m \u001b[1;33m=\u001b[0m \u001b[0mDataLoader\u001b[0m\u001b[1;33m(\u001b[0m\u001b[0msubset_data\u001b[0m\u001b[1;33m,\u001b[0m \u001b[0mbatch_size\u001b[0m\u001b[1;33m=\u001b[0m\u001b[1;36m2\u001b[0m\u001b[1;33m,\u001b[0m \u001b[0mshuffle\u001b[0m\u001b[1;33m=\u001b[0m\u001b[1;32mTrue\u001b[0m\u001b[1;33m)\u001b[0m\u001b[1;33m\u001b[0m\u001b[1;33m\u001b[0m\u001b[0m\n",
      "\u001b[1;31mNameError\u001b[0m: name 'dataset' is not defined"
     ]
    }
   ],
   "source": [
    "# 只加载前10张图片进行测试\n",
    "subset_data = dataset['train'][:10]\n",
    "\n",
    "# 重新定义 DataLoader\n",
    "subset_loader = DataLoader(subset_data, batch_size=2, shuffle=True)\n",
    "\n",
    "# 检查数据加载是否正常\n",
    "for images in subset_loader:\n",
    "    print(images.shape)\n",
    "    break  # 只运行一批次\n"
   ]
  },
  {
   "cell_type": "code",
   "execution_count": null,
   "id": "55ab129c-ec6b-4012-84c9-fc44dd67a936",
   "metadata": {},
   "outputs": [],
   "source": [
    "import torch\n",
    "from torchvision import transforms\n",
    "from torch.utils.data import DataLoader\n",
    "from PIL import Image\n",
    "\n",
    "# 定义图像预处理步骤\n",
    "transform = transforms.Compose([\n",
    "    transforms.Resize((224, 224)),  # 将图像大小调整为224x224\n",
    "    transforms.ToTensor(),          # 转换为Tensor格式\n",
    "])\n",
    "\n",
    "# 定义数据集类\n",
    "class DENTEXDataset(torch.utils.data.Dataset):\n",
    "    def __init__(self, dataset, transform=None):\n",
    "        self.dataset = dataset\n",
    "        self.transform = transform\n",
    "    \n",
    "    def __len__(self):\n",
    "        return len(self.dataset['train'])\n",
    "    \n",
    "    def __getitem__(self, idx):\n",
    "        image = self.dataset['train'][idx]['image']\n",
    "        if self.transform:\n",
    "            image = self.transform(image)\n",
    "        return image\n",
    "\n",
    "# 加载 DENTEX 数据集（替换成你加载数据集的方式）\n",
    "from datasets import load_dataset\n",
    "dataset = load_dataset(\"ibrahimhamamci/DENTEX\")\n",
    "\n",
    "# 创建数据集实例，只使用前10张图片进行测试\n",
    "small_dataset = DENTEXDataset(dataset, transform=transform)\n",
    "small_loader = DataLoader(small_dataset, batch_size=2, shuffle=True)\n",
    "\n",
    "# 检查是否能正常加载数据\n",
    "for images in small_loader:\n",
    "    print(f\"批次大小: {images.shape}\")  # 输出批次图像的形状\n",
    "    break  # 只加载一次批次以节省内存\n",
    "\n",
    "# 定义一个简单的卷积神经网络 (CNN) 模型\n",
    "import torch.nn as nn\n",
    "\n",
    "class SimpleCNN(nn.Module):\n",
    "    def __init__(self):\n",
    "        super(SimpleCNN, self).__init__()\n",
    "        self.conv1 = nn.Conv2d(3, 16, kernel_size=3, padding=1)\n",
    "        self.pool = nn.MaxPool2d(kernel_size=2, stride=2, padding=0)\n",
    "        self.conv2 = nn.Conv2d(16, 32, kernel_size=3, padding=1)\n",
    "        self.fc1 = nn.Linear(32 * 56 * 56, 128)\n",
    "        self.fc2 = nn.Linear(128, 10)  # 假设10个分类\n",
    "    \n",
    "    def forward(self, x):\n",
    "        x = self.pool(torch.relu(self.conv1(x)))\n",
    "        x = self.pool(torch.relu(self.conv2(x)))\n",
    "        x = x.view(-1, 32 * 56 * 56)  # 展平为向量\n",
    "        x = torch.relu(self.fc1(x))\n",
    "        x = self.fc2(x)\n",
    "        return x\n",
    "\n",
    "# 初始化模型并设置为 CPU 以节省资源\n",
    "device = torch.device('cpu')\n",
    "model = SimpleCNN().to(device)\n",
    "\n",
    "# 在小数据集上运行模型推理\n",
    "for images in small_loader:\n",
    "    images = images.to(device)\n",
    "    outputs = model(images)\n",
    "    print(f\"模型输出: {outputs.shape}\")\n",
    "    break  # 只进行一次前向传播\n"
   ]
  },
  {
   "cell_type": "code",
   "execution_count": null,
   "id": "d5935510-4f4f-4f73-a689-cf17b5e7bd40",
   "metadata": {},
   "outputs": [],
   "source": []
  }
 ],
 "metadata": {
  "kernelspec": {
   "display_name": "Python 3 (ipykernel)",
   "language": "python",
   "name": "python3"
  },
  "language_info": {
   "codemirror_mode": {
    "name": "ipython",
    "version": 3
   },
   "file_extension": ".py",
   "mimetype": "text/x-python",
   "name": "python",
   "nbconvert_exporter": "python",
   "pygments_lexer": "ipython3",
   "version": "3.9.20"
  }
 },
 "nbformat": 4,
 "nbformat_minor": 5
}
